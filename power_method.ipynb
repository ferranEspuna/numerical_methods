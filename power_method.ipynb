{
 "nbformat": 4,
 "nbformat_minor": 0,
 "metadata": {
  "colab": {
   "provenance": [],
   "authorship_tag": "ABX9TyNtyx3Sdr4zAH36F5Vi13gv"
  },
  "kernelspec": {
   "name": "python3",
   "display_name": "Python 3"
  },
  "language_info": {
   "name": "python"
  }
 },
 "cells": [
  {
   "cell_type": "code",
   "execution_count": 1,
   "metadata": {
    "id": "uKXuaZFKx93f",
    "executionInfo": {
     "status": "ok",
     "timestamp": 1670015581966,
     "user_tz": -60,
     "elapsed": 7,
     "user": {
      "displayName": "Ferran Espuña",
      "userId": "05864415750500430917"
     }
    }
   },
   "outputs": [],
   "source": [
    "#MÈTODE DE LA POTÈNCIA\n",
    "\n",
    "import numpy as np\n",
    "np.set_printoptions(precision=8, sign='+', floatmode='fixed', suppress=True)\n",
    "\n",
    "\n",
    "def potencia(M, v0, tol, max_iter, verbose=True):\n",
    "\n",
    "    #Inicialitzem el vector amb norma 1\n",
    "    vi = np.copy(v0) / np.linalg.norm(v0)\n",
    "    #No tenim diferència amb l'anterior iterat\n",
    "    difii = -1\n",
    "\n",
    "    #Imprimim l'estat inicial si s'ha especificat\n",
    "    if verbose:\n",
    "        print('M =\\n', M, '\\n')\n",
    "        if verbose: print(\"{0:>3}\".format(str(0)), ' v = ' , vi, sep = '')\n",
    "\n",
    "    #Fem el nombre d'iteracions que hem passat\n",
    "    for i in range(max_iter):\n",
    "\n",
    "        #Un pas de potència\n",
    "        vii = M @ vi\n",
    "\n",
    "        #Cocient de Rayleigh\n",
    "        rii = np.dot(vi, vii) / np.dot(vi, vi)\n",
    "\n",
    "        #Dividim pel coeficient per normalitzar\n",
    "        vii /= rii\n",
    "\n",
    "        #Norma de la diferència entre iterats\n",
    "        difi, difii = difii, np.linalg.norm(vi - vii)\n",
    "\n",
    "        #Imprimim si s'ha especificat el resultat de la iteració\n",
    "        if verbose:\n",
    "            print(\"{0:>3}\".format(str(i+1)), ' v = ' , vii, ', lambda = ', \"{0:0.8f}\".format(rii), ', dif = ', \"{0:0.8f}\".format(difii), sep='', end='')\n",
    "            #Si a l'anterior iterat ja teniem diferència (i > 1), imprimim també els quocients de les diferències\n",
    "            if(difi > 0): print(', q = ', \"{0:0.8f}\".format(difii / difi), sep='')\n",
    "            else: print()\n",
    "        else:\n",
    "            print(rii)\n",
    "\n",
    "        #Si la diferència entre els iterats te norma menor que tol, hem convergit\n",
    "        if difii < tol:\n",
    "            if verbose: print('Hem convergit! :)')\n",
    "            return True, i, vii, rii\n",
    "\n",
    "        #Per a seguir iterant, actualitzem el vector\n",
    "        vi = vii\n",
    "\n",
    "    #si arribem aquí, no hem convergit\n",
    "    if verbose: print('No hem convergit :(')\n",
    "    return False, MAX_ITER, vi, rii"
   ]
  },
  {
   "cell_type": "code",
   "source": [
    "#TESTING POTENCIA\n",
    "\n",
    "MAX_ITER = 50\n",
    "TOL = 1e-10\n",
    "\n",
    "#vap dominant: 5.0\n",
    "mat_jordan = np.asarray([[5., 0., 0.],\n",
    "                         [0., 3., 0.],\n",
    "                         [0., 0., 1.]]).astype(np.float64)\n",
    "\n",
    "#vep associat: (1, 2, 1)\n",
    "mat_pas = np.asarray([[1., 0, 1.],\n",
    "                      [2., -1., 5.],\n",
    "                      [1., 4., 3.]]).astype(np.float64)\n",
    "\n",
    "#matriu d'iteració\n",
    "mat_potencia = mat_pas @ mat_jordan @ np.linalg.inv(mat_pas)\n",
    "\n",
    "#vector inicial\n",
    "V0 = np.ones((3))\n",
    "\n",
    "#fem el mètode de la potència\n",
    "conv, iter, vep, vap = potencia(mat_potencia, V0, TOL, MAX_ITER)\n",
    "\n",
    "print('\\nObtenim el vep:', vep, 'amb vap', vap)"
   ],
   "metadata": {
    "colab": {
     "base_uri": "https://localhost:8080/"
    },
    "id": "ktrwemjsvIfI",
    "executionInfo": {
     "status": "ok",
     "timestamp": 1670016474570,
     "user_tz": -60,
     "elapsed": 197,
     "user": {
      "displayName": "Ferran Espuña",
      "userId": "05864415750500430917"
     }
    },
    "outputId": "7f4bf410-9511-44b5-c64d-46f1c7642b28"
   },
   "execution_count": 4,
   "outputs": [
    {
     "output_type": "stream",
     "name": "stdout",
     "text": [
      "M =\n",
      " [[ +7.57142857  -1.14285714  -0.28571429]\n",
      " [+13.00000000  -1.00000000  -1.00000000]\n",
      " [ +7.14285714  -2.28571429  +2.42857143]] \n",
      "\n",
      "  0 v = [+0.57735027 +0.57735027 +0.57735027]\n",
      "  1 v = [+0.43554494 +0.77992931 +0.51657656], lambda = 8.14285714, dif = 0.25463791\n",
      "  2 v = [+0.42027988 +0.81228981 +0.48058910], lambda = 5.37440987, dif = 0.05074762, q = 0.19929327\n",
      "  3 v = [+0.41923793 +0.82615631 +0.45806317], lambda = 5.04839026, dif = 0.02647231, q = 0.52164625\n",
      "  4 v = [+0.42003888 +0.83357885 +0.44394293], lambda = 4.99757595, dif = 0.01597238, q = 0.60336182\n",
      "  5 v = [+0.42077787 +0.83783018 +0.43526113], lambda = 4.99263906, dif = 0.00969502, q = 0.60698654\n",
      "  6 v = [+0.42126386 +0.84032589 +0.42998733], lambda = 4.99451579, dif = 0.00585472, q = 0.60388954\n",
      "  7 v = [+0.42156063 +0.84180644 +0.42680314], lambda = 4.99653697, dif = 0.00352409, q = 0.60192258\n",
      "  8 v = [+0.42173851 +0.84268923 +0.42488629], lambda = 4.99790257, dif = 0.00211784, q = 0.60096184\n",
      "  9 v = [+0.42184475 +0.84321700 +0.42373409], lambda = 4.99874299, dif = 0.00127177, q = 0.60050286\n",
      " 10 v = [+0.42190824 +0.84353300 +0.42304205], lambda = 4.99924803, dif = 0.00076341, q = 0.60027492\n",
      " 11 v = [+0.42194623 +0.84372236 +0.42262658], lambda = 4.99954996, dif = 0.00045817, q = 0.60015559\n",
      " 12 v = [+0.42196898 +0.84383589 +0.42237721], lambda = 4.99973046, dif = 0.00027494, q = 0.60009015\n",
      " 13 v = [+0.42198261 +0.84390398 +0.42222756], lambda = 4.99983846, dif = 0.00016498, q = 0.60005300\n",
      " 14 v = [+0.42199079 +0.84394483 +0.42213776], lambda = 4.99990315, dif = 0.00009899, q = 0.60003143\n",
      " 15 v = [+0.42199569 +0.84396933 +0.42208387], lambda = 4.99994191, dif = 0.00005940, q = 0.60001873\n",
      " 16 v = [+0.42199863 +0.84398403 +0.42205154], lambda = 4.99996516, dif = 0.00003564, q = 0.60001120\n",
      " 17 v = [+0.42200039 +0.84399285 +0.42203214], lambda = 4.99997910, dif = 0.00002138, q = 0.60000671\n",
      " 18 v = [+0.42200145 +0.84399814 +0.42202050], lambda = 4.99998746, dif = 0.00001283, q = 0.60000402\n",
      " 19 v = [+0.42200209 +0.84400132 +0.42201352], lambda = 4.99999248, dif = 0.00000770, q = 0.60000241\n",
      " 20 v = [+0.42200247 +0.84400322 +0.42200932], lambda = 4.99999549, dif = 0.00000462, q = 0.60000145\n",
      " 21 v = [+0.42200270 +0.84400436 +0.42200681], lambda = 4.99999729, dif = 0.00000277, q = 0.60000087\n",
      " 22 v = [+0.42200283 +0.84400505 +0.42200530], lambda = 4.99999838, dif = 0.00000166, q = 0.60000052\n",
      " 23 v = [+0.42200292 +0.84400546 +0.42200440], lambda = 4.99999903, dif = 0.00000100, q = 0.60000031\n",
      " 24 v = [+0.42200296 +0.84400571 +0.42200385], lambda = 4.99999942, dif = 0.00000060, q = 0.60000019\n",
      " 25 v = [+0.42200299 +0.84400586 +0.42200353], lambda = 4.99999965, dif = 0.00000036, q = 0.60000011\n",
      " 26 v = [+0.42200301 +0.84400594 +0.42200333], lambda = 4.99999979, dif = 0.00000022, q = 0.60000007\n",
      " 27 v = [+0.42200302 +0.84400600 +0.42200321], lambda = 4.99999987, dif = 0.00000013, q = 0.60000004\n",
      " 28 v = [+0.42200303 +0.84400603 +0.42200314], lambda = 4.99999992, dif = 0.00000008, q = 0.60000002\n",
      " 29 v = [+0.42200303 +0.84400605 +0.42200310], lambda = 4.99999995, dif = 0.00000005, q = 0.60000001\n",
      " 30 v = [+0.42200304 +0.84400606 +0.42200308], lambda = 4.99999997, dif = 0.00000003, q = 0.60000001\n",
      " 31 v = [+0.42200304 +0.84400607 +0.42200306], lambda = 4.99999998, dif = 0.00000002, q = 0.60000000\n",
      " 32 v = [+0.42200304 +0.84400607 +0.42200305], lambda = 4.99999999, dif = 0.00000001, q = 0.60000001\n",
      " 33 v = [+0.42200304 +0.84400607 +0.42200305], lambda = 4.99999999, dif = 0.00000001, q = 0.60000001\n",
      " 34 v = [+0.42200304 +0.84400608 +0.42200304], lambda = 5.00000000, dif = 0.00000000, q = 0.59999998\n",
      " 35 v = [+0.42200304 +0.84400608 +0.42200304], lambda = 5.00000000, dif = 0.00000000, q = 0.60000002\n",
      " 36 v = [+0.42200304 +0.84400608 +0.42200304], lambda = 5.00000000, dif = 0.00000000, q = 0.60000000\n",
      " 37 v = [+0.42200304 +0.84400608 +0.42200304], lambda = 5.00000000, dif = 0.00000000, q = 0.59999993\n",
      " 38 v = [+0.42200304 +0.84400608 +0.42200304], lambda = 5.00000000, dif = 0.00000000, q = 0.60000000\n",
      " 39 v = [+0.42200304 +0.84400608 +0.42200304], lambda = 5.00000000, dif = 0.00000000, q = 0.60000019\n",
      " 40 v = [+0.42200304 +0.84400608 +0.42200304], lambda = 5.00000000, dif = 0.00000000, q = 0.59999998\n",
      " 41 v = [+0.42200304 +0.84400608 +0.42200304], lambda = 5.00000000, dif = 0.00000000, q = 0.59999997\n",
      " 42 v = [+0.42200304 +0.84400608 +0.42200304], lambda = 5.00000000, dif = 0.00000000, q = 0.59999964\n",
      "Hem convergit! :)\n",
      "\n",
      "Obtenim el vep: [+0.42200304 +0.84400608 +0.42200304] amb vap 4.999999999940592\n"
     ]
    }
   ]
  },
  {
   "cell_type": "code",
   "source": [
    "#TESTING POTENCIA ES\n",
    "\n",
    "MAX_ITER = 50\n",
    "TOL = 1e-10\n",
    "\n",
    "#vap dominant: 5.0\n",
    "mat_jordan = np.asarray([[5., 0., 0.],\n",
    "                         [0., 3., 0.],\n",
    "                         [0., 0., 1.]]).astype(np.float64)\n",
    "\n",
    "#vep associat: (1, 2, 1)\n",
    "mat_pas = np.asarray([[1., 0, 1.],\n",
    "                      [2., -1., 5.],\n",
    "                      [1., 4., 3.]]).astype(np.float64)\n",
    "\n",
    "#matriu d'iteració\n",
    "mat_potencia = mat_pas @ mat_jordan @ np.linalg.inv(mat_pas)\n",
    "\n",
    "names = ['ferran', 'nazar', 'alex', 'noel', 'sergi', 'rong', 'fabian']\n",
    "\n",
    "mat_potencia = np.asarray([[5, 5, 3, 1, 3, 2, 4],\n",
    "                           [5, 5, 3, 1, 3, 2, 4],\n",
    "                           [5, 4, 4, 3, 5, 3, 4],\n",
    "                           [5, 4, 3, 3, 4, 2, 3],\n",
    "                           [5, 5, 4, 2, 4, 3, 5],\n",
    "                           [5, 5, 4, 2, 4, 3, 5],\n",
    "                           [5, 5, 3, 2, 4, 2, 4]]).astype(np.float64).T - 1\n",
    "\n",
    "\n",
    "mat_potencia /= mat_potencia.sum(axis=0)\n",
    "\n",
    "#vector inicial\n",
    "V0 = np.ones((7))\n",
    "\n",
    "#fem el mètode de la potència\n",
    "conv, iter, vep, vap = potencia(mat_potencia, V0, TOL, MAX_ITER)\n",
    "\n",
    "\n",
    "print('\\nObtenim el vep:', vep, 'amb vap', vap)\n",
    "\n",
    "final_scores = {name: score for name, score in zip(names, (vep / vep.max() * 100))}\n",
    "print(final_scores)"
   ],
   "metadata": {
    "colab": {
     "base_uri": "https://localhost:8080/"
    },
    "id": "i4kOOZWK37jx",
    "executionInfo": {
     "status": "ok",
     "timestamp": 1670017833255,
     "user_tz": -60,
     "elapsed": 211,
     "user": {
      "displayName": "Ferran Espuña",
      "userId": "05864415750500430917"
     }
    },
    "outputId": "91c93e2e-5064-46fc-ec02-9f7885ff769f"
   },
   "execution_count": 17,
   "outputs": [
    {
     "output_type": "stream",
     "name": "stdout",
     "text": [
      "M =\n",
      " [[+0.25000000 +0.25000000 +0.19047619 +0.23529412 +0.19047619 +0.19047619\n",
      "  +0.22222222]\n",
      " [+0.25000000 +0.25000000 +0.14285714 +0.17647059 +0.19047619 +0.19047619\n",
      "  +0.22222222]\n",
      " [+0.12500000 +0.12500000 +0.14285714 +0.11764706 +0.14285714 +0.14285714\n",
      "  +0.11111111]\n",
      " [+0.00000000 +0.00000000 +0.09523810 +0.11764706 +0.04761905 +0.04761905\n",
      "  +0.05555556]\n",
      " [+0.12500000 +0.12500000 +0.19047619 +0.17647059 +0.14285714 +0.14285714\n",
      "  +0.16666667]\n",
      " [+0.06250000 +0.06250000 +0.09523810 +0.05882353 +0.09523810 +0.09523810\n",
      "  +0.05555556]\n",
      " [+0.18750000 +0.18750000 +0.14285714 +0.11764706 +0.19047619 +0.19047619\n",
      "  +0.16666667]] \n",
      "\n",
      "  0 v = [+0.37796447 +0.37796447 +0.37796447 +0.37796447 +0.37796447 +0.37796447\n",
      " +0.37796447]\n",
      "  1 v = [+0.57788686 +0.53765535 +0.34293835 +0.13745767 +0.40416789 +0.19846664\n",
      " +0.44717856], lambda = 1.00000000, dif = 0.40278675\n",
      "  2 v = [+0.58196881 +0.55791400 +0.33534533 +0.10085742 +0.38387574 +0.18985313\n",
      " +0.45678272], lambda = 1.01502118, dif = 0.04901542, q = 0.12169073\n",
      "  3 v = [+0.58214582 +0.56029002 +0.33427160 +0.09629861 +0.38145114 +0.18873515\n",
      " +0.45795226], lambda = 1.00209621, dif = 0.00600907, q = 0.12259550\n",
      "  4 v = [+0.58215944 +0.56058278 +0.33413783 +0.09573302 +0.38114960 +0.18859797\n",
      " +0.45810104], lambda = 1.00026261, dif = 0.00074536, q = 0.12403899\n",
      "  5 v = [+0.58216094 +0.56061896 +0.33412123 +0.09566315 +0.38111244 +0.18858100\n",
      " +0.45811949], lambda = 1.00003249, dif = 0.00009207, q = 0.12353105\n",
      "  6 v = [+0.58216112 +0.56062342 +0.33411918 +0.09565451 +0.38110785 +0.18857890\n",
      " +0.45812177], lambda = 1.00000401, dif = 0.00001137, q = 0.12352661\n",
      "  7 v = [+0.58216114 +0.56062398 +0.33411893 +0.09565345 +0.38110729 +0.18857864\n",
      " +0.45812205], lambda = 1.00000050, dif = 0.00000140, q = 0.12351464\n",
      "  8 v = [+0.58216114 +0.56062404 +0.33411889 +0.09565332 +0.38110722 +0.18857861\n",
      " +0.45812208], lambda = 1.00000006, dif = 0.00000017, q = 0.12351988\n",
      "  9 v = [+0.58216114 +0.56062405 +0.33411889 +0.09565330 +0.38110721 +0.18857861\n",
      " +0.45812209], lambda = 1.00000001, dif = 0.00000002, q = 0.12352180\n",
      " 10 v = [+0.58216114 +0.56062405 +0.33411889 +0.09565330 +0.38110721 +0.18857860\n",
      " +0.45812209], lambda = 1.00000000, dif = 0.00000000, q = 0.12352274\n",
      " 11 v = [+0.58216114 +0.56062405 +0.33411889 +0.09565330 +0.38110721 +0.18857860\n",
      " +0.45812209], lambda = 1.00000000, dif = 0.00000000, q = 0.12352300\n",
      " 12 v = [+0.58216114 +0.56062405 +0.33411889 +0.09565330 +0.38110721 +0.18857860\n",
      " +0.45812209], lambda = 1.00000000, dif = 0.00000000, q = 0.12352308\n",
      "Hem convergit! :)\n",
      "\n",
      "Obtenim el vep: [+0.58216114 +0.56062405 +0.33411889 +0.09565330 +0.38110721 +0.18857860\n",
      " +0.45812209] amb vap 1.000000000014258\n",
      "{'ferran': 100.0, 'nazar': 96.30049372702624, 'alex': 57.392853271499, 'noel': 16.4307254153869, 'sergi': 65.46421215536233, 'rong': 32.392853271499014, 'fabian': 78.69334699852524}\n"
     ]
    }
   ]
  },
  {
   "cell_type": "code",
   "source": [
    "\n",
    "#MÈTODE DE LA POTÈNCIA INVERSA DESPLAÇADA\n",
    "\n",
    "#volem convergir a un vep amb un vap concret, tal que és més proper a vap_approx que qualsevol altre vap\n",
    "def potencia_inversa_desplazada(M, v0, tol, max_iter, vap_approx, verbose=True):\n",
    "\n",
    "    #Calculem la matriu d'iteració\n",
    "    nova_matriu = np.linalg.inv(M - vap_approx * np.identity(M.shape[0], dtype=np.float64))\n",
    "\n",
    "    #Mètode de la potència\n",
    "    conv, iter, vep, vap = potencia(nova_matriu, V0, TOL, MAX_ITER)\n",
    "\n",
    "    #Calculem el vep i vap originals\n",
    "    return conv, iter, vep, 1/vap + vap_approx"
   ],
   "metadata": {
    "id": "cb_3WlA5_oGu"
   },
   "execution_count": null,
   "outputs": []
  },
  {
   "cell_type": "code",
   "source": [
    "#TESTING MÈTODE DE LA POTÈNCIA INVERSA DESPLAÇADA\n",
    "\n",
    "#Ens desplaçem aquestes quantitats per obtenir els 3 vaps i veps associats\n",
    "#(hem escollit aquests valors saben que funcionen perquè ja coneixem els vaps)\n",
    "desplazaments = [6, 2.5, 0.0]\n",
    "\n",
    "for d in desplazaments:\n",
    "    conv, iter, vep, vap = potencia_inversa_desplazada(mat_potencia, V0, TOL, MAX_ITER, vap_approx=d)\n",
    "    print('\\nObtenim el vep:', vep, 'amb vap', vap)"
   ],
   "metadata": {
    "colab": {
     "base_uri": "https://localhost:8080/"
    },
    "id": "aOTdqaTROLtQ",
    "executionInfo": {
     "status": "ok",
     "timestamp": 1652113213947,
     "user_tz": -120,
     "elapsed": 5,
     "user": {
      "displayName": "Ferran Espuña",
      "userId": "05864415750500430917"
     }
    },
    "outputId": "0e939784-0c08-4958-82bc-bb65a326dcaa"
   },
   "execution_count": null,
   "outputs": [
    {
     "output_type": "stream",
     "name": "stdout",
     "text": [
      "M =\n",
      " [[-1.51428571 +0.22857143 +0.05714286]\n",
      " [-2.61904762 +0.23809524 +0.14285714]\n",
      " [-1.35238095 +0.30476190 -0.25714286]] \n",
      "\n",
      "  0 v = [+0.57735027 +0.57735027 +0.57735027]\n",
      "  1 v = [+0.44597715 +0.81243900 +0.47363465], lambda = -1.59047619, dif = 0.28858714\n",
      "  2 v = [+0.42857913 +0.84028842 +0.44224583], lambda = -1.07931447, dif = 0.04542620, q = 0.15740897\n",
      "  3 v = [+0.42576522 +0.84750041 +0.43126966], lambda = -1.01383136, dif = 0.01343157, q = 0.29567894\n",
      "  4 v = [+0.42535824 +0.84967891 +0.42739041], lambda = -1.00238292, dif = 0.00446767, q = 0.33262422\n",
      "  5 v = [+0.42532793 +0.85037062 +0.42604541], lambda = -1.00035583, dif = 0.00151275, q = 0.33859958\n",
      "  6 v = [+0.42533904 +0.85059510 +0.42558626], lambda = -1.00003077, dif = 0.00051121, q = 0.33793372\n",
      "  7 v = [+0.42534701 +0.85066878 +0.42543103], lambda = -0.99999264, dif = 0.00017201, q = 0.33647906\n",
      "  8 v = [+0.42535053 +0.85069312 +0.42537885], lambda = -0.99999402, dif = 0.00005768, q = 0.33533231\n",
      "  9 v = [+0.42535187 +0.85070119 +0.42536138], lambda = -0.99999730, dif = 0.00001930, q = 0.33456743\n",
      " 10 v = [+0.42535235 +0.85070387 +0.42535553], lambda = -0.99999896, dif = 0.00000645, q = 0.33408521\n",
      " 11 v = [+0.42535252 +0.85070476 +0.42535358], lambda = -0.99999962, dif = 0.00000215, q = 0.33378837\n",
      " 12 v = [+0.42535257 +0.85070506 +0.42535293], lambda = -0.99999987, dif = 0.00000072, q = 0.33360772\n",
      " 13 v = [+0.42535259 +0.85070516 +0.42535271], lambda = -0.99999996, dif = 0.00000024, q = 0.33349845\n",
      " 14 v = [+0.42535260 +0.85070519 +0.42535264], lambda = -0.99999998, dif = 0.00000008, q = 0.33343258\n",
      " 15 v = [+0.42535260 +0.85070520 +0.42535262], lambda = -0.99999999, dif = 0.00000003, q = 0.33339294\n",
      " 16 v = [+0.42535260 +0.85070521 +0.42535261], lambda = -1.00000000, dif = 0.00000001, q = 0.33336913\n",
      " 17 v = [+0.42535260 +0.85070521 +0.42535261], lambda = -1.00000000, dif = 0.00000000, q = 0.33335482\n",
      " 18 v = [+0.42535260 +0.85070521 +0.42535260], lambda = -1.00000000, dif = 0.00000000, q = 0.33334624\n",
      " 19 v = [+0.42535260 +0.85070521 +0.42535260], lambda = -1.00000000, dif = 0.00000000, q = 0.33334108\n",
      " 20 v = [+0.42535260 +0.85070521 +0.42535260], lambda = -1.00000000, dif = 0.00000000, q = 0.33333784\n",
      " 21 v = [+0.42535260 +0.85070521 +0.42535260], lambda = -1.00000000, dif = 0.00000000, q = 0.33333537\n",
      "Hem convergit! :)\n",
      "\n",
      "Obtenim el vep: [+0.42535260 +0.85070521 +0.42535260] amb vap 4.999999999992925\n",
      "M =\n",
      " [[+1.08571429 -0.30476190 -0.07619048]\n",
      " [+3.31428571 -0.89523810 -0.72380952]\n",
      " [+2.51428571 -1.82857143 +1.54285714]] \n",
      "\n",
      "  0 v = [+0.57735027 +0.57735027 +0.57735027]\n",
      "  1 v = [+0.26372790 +0.63437252 +0.83395039], lambda = 1.54285714, dif = 0.40921162\n",
      "  2 v = [+0.07200346 -0.72700264 +1.93015717], lambda = 0.40916779, dif = 1.75834294, q = 4.29690376\n",
      "  3 v = [+0.07190885 -0.23906409 +2.11394502], lambda = 2.12321998, dif = 0.52140388, q = 0.29653139\n",
      "  4 v = [-0.00542815 -0.57737440 +2.07831654], lambda = 1.86663592, dif = 0.34886138, q = 0.66908091\n",
      "  5 v = [+0.00579484 -0.49709883 +2.10064711], lambda = 2.02255196, dif = 0.08407602, q = 0.24100123\n",
      "  6 v = [-0.00113615 -0.53076448 +2.09269956], lambda = 1.99003673, dif = 0.03527858, q = 0.41960338\n",
      "  7 v = [+0.00053897 -0.52091182 +2.09519937], lambda = 2.00287414, dif = 0.01030194, q = 0.29201693\n",
      "  8 v = [-0.00014757 -0.52446953 +2.09431502], lambda = 1.99897000, dif = 0.00372971, q = 0.36203945\n",
      "  9 v = [+0.00005562 -0.52333823 +2.09459834], lambda = 2.00032998, dif = 0.00118380, q = 0.31739844\n",
      " 10 v = [-0.00001725 -0.52372624 +2.09450140], lambda = 1.99988751, dif = 0.00040652, q = 0.34340413\n",
      " 11 v = [+0.00000601 -0.52359909 +2.09453319], lambda = 2.00003701, dif = 0.00013312, q = 0.32745701\n",
      " 12 v = [-0.00000195 -0.52364191 +2.09452249], lambda = 1.99998757, dif = 0.00004485, q = 0.33692511\n",
      " 13 v = [+0.00000066 -0.52362772 +2.09452603], lambda = 2.00000413, dif = 0.00001485, q = 0.33119988\n",
      " 14 v = [-0.00000022 -0.52363247 +2.09452485], lambda = 1.99999862, dif = 0.00000497, q = 0.33462192\n",
      " 15 v = [+0.00000007 -0.52363089 +2.09452524], lambda = 2.00000046, dif = 0.00000165, q = 0.33256300\n",
      " 16 v = [-0.00000002 -0.52363142 +2.09452511], lambda = 1.99999985, dif = 0.00000055, q = 0.33379663\n",
      " 17 v = [+0.00000001 -0.52363124 +2.09452515], lambda = 2.00000005, dif = 0.00000018, q = 0.33305572\n",
      " 18 v = [-0.00000000 -0.52363130 +2.09452514], lambda = 1.99999998, dif = 0.00000006, q = 0.33350004\n",
      " 19 v = [+0.00000000 -0.52363128 +2.09452514], lambda = 2.00000001, dif = 0.00000002, q = 0.33323336\n",
      " 20 v = [-0.00000000 -0.52363129 +2.09452514], lambda = 2.00000000, dif = 0.00000001, q = 0.33339333\n",
      " 21 v = [+0.00000000 -0.52363129 +2.09452514], lambda = 2.00000000, dif = 0.00000000, q = 0.33329733\n",
      " 22 v = [-0.00000000 -0.52363129 +2.09452514], lambda = 2.00000000, dif = 0.00000000, q = 0.33335492\n",
      " 23 v = [+0.00000000 -0.52363129 +2.09452514], lambda = 2.00000000, dif = 0.00000000, q = 0.33332020\n",
      " 24 v = [-0.00000000 -0.52363129 +2.09452514], lambda = 2.00000000, dif = 0.00000000, q = 0.33334105\n",
      "Hem convergit! :)\n",
      "\n",
      "Obtenim el vep: [-0.00000000 -0.52363129 +2.09452514] amb vap 3.000000000005832\n",
      "M =\n",
      " [[-0.31428571 +0.22857143 +0.05714286]\n",
      " [-2.58095238 +1.36190476 +0.25714286]\n",
      " [-1.50476190 +0.60952381 +0.48571429]] \n",
      "\n",
      "  0 v = [+0.57735027 +0.57735027 +0.57735027]\n",
      "  1 v = [+0.03534798 +1.19004851 +0.50665432], lambda = -0.46666667, dif = 0.82107463\n",
      "  2 v = [+0.19800871 +1.13385475 +0.62729589], lambda = 1.46384167, dif = 0.21016813, q = 0.25596714\n",
      "  3 v = [+0.21760345 +1.11657622 +0.65234216], lambda = 1.06974855, dif = 0.03619140, q = 0.17220212\n",
      "  4 v = [+0.22097757 +1.11106956 +0.66064207], lambda = 1.01415024, dif = 0.01051649, q = 0.29057996\n",
      "  5 v = [+0.22156624 +1.10924630 +0.66351153], lambda = 1.00312952, dif = 0.00345030, q = 0.32808472\n",
      "  6 v = [+0.22165900 +1.10863864 +0.66449642], lambda = 1.00073469, dif = 0.00116097, q = 0.33648474\n",
      "  7 v = [+0.22166940 +1.10843601 +0.66483102], lambda = 1.00018352, dif = 0.00039132, q = 0.33705817\n",
      "  8 v = [+0.22166878 +1.10836845 +0.66494387], lambda = 1.00004890, dif = 0.00013153, q = 0.33611747\n",
      "  9 v = [+0.22166775 +1.10834593 +0.66498176], lambda = 1.00001385, dif = 0.00004409, q = 0.33517665\n",
      " 10 v = [+0.22166725 +1.10833842 +0.66499444], lambda = 1.00000412, dif = 0.00001475, q = 0.33449615\n",
      " 11 v = [+0.22166705 +1.10833592 +0.66499868], lambda = 1.00000128, dif = 0.00000493, q = 0.33405032\n",
      " 12 v = [+0.22166697 +1.10833508 +0.66500009], lambda = 1.00000041, dif = 0.00000164, q = 0.33377021\n",
      " 13 v = [+0.22166695 +1.10833480 +0.66500056], lambda = 1.00000013, dif = 0.00000055, q = 0.33359781\n",
      " 14 v = [+0.22166694 +1.10833471 +0.66500072], lambda = 1.00000004, dif = 0.00000018, q = 0.33349285\n",
      " 15 v = [+0.22166693 +1.10833468 +0.66500077], lambda = 1.00000001, dif = 0.00000006, q = 0.33342934\n",
      " 16 v = [+0.22166693 +1.10833467 +0.66500079], lambda = 1.00000000, dif = 0.00000002, q = 0.33339104\n",
      " 17 v = [+0.22166693 +1.10833467 +0.66500080], lambda = 1.00000000, dif = 0.00000001, q = 0.33336802\n",
      " 18 v = [+0.22166693 +1.10833467 +0.66500080], lambda = 1.00000000, dif = 0.00000000, q = 0.33335413\n",
      " 19 v = [+0.22166693 +1.10833467 +0.66500080], lambda = 1.00000000, dif = 0.00000000, q = 0.33334583\n",
      " 20 v = [+0.22166693 +1.10833467 +0.66500080], lambda = 1.00000000, dif = 0.00000000, q = 0.33334068\n",
      " 21 v = [+0.22166693 +1.10833467 +0.66500080], lambda = 1.00000000, dif = 0.00000000, q = 0.33333881\n",
      "Hem convergit! :)\n",
      "\n",
      "Obtenim el vep: [+0.22166693 +1.10833467 +0.66500080] amb vap 0.9999999999808651\n"
     ]
    }
   ]
  },
  {
   "cell_type": "code",
   "source": [
    "#Descarreguem dades de la Lliga 2020-2021\n",
    "\n",
    "import requests\n",
    "\n",
    "#Font de descarrega de dades. 2014 inidica que volem la Lliga de primera divisió\n",
    "url =  \"https://api.football-data.org/v2/competitions/2014/matches\"\n",
    "#Només volem la temporada 2020-2021\n",
    "querystring = {\"season\": 2020}\n",
    "#Per a autenticar-nos\n",
    "headers = {'X-Auth-Token': 'MY_TOKEN'}\n",
    "\n",
    "#Obtenim totes les dades dels partits que ens interessen\n",
    "response = requests.request(\"GET\", url, headers=headers, params=querystring)\n",
    "j = response.json()"
   ],
   "metadata": {
    "id": "hqlfCh2GO11g"
   },
   "execution_count": null,
   "outputs": []
  },
  {
   "cell_type": "code",
   "source": [
    "#Per exemple:\n",
    "j['matches'][0]"
   ],
   "metadata": {
    "colab": {
     "base_uri": "https://localhost:8080/"
    },
    "id": "1Bk8LYytwl1H",
    "executionInfo": {
     "status": "ok",
     "timestamp": 1652113216768,
     "user_tz": -120,
     "elapsed": 7,
     "user": {
      "displayName": "Ferran Espuña",
      "userId": "05864415750500430917"
     }
    },
    "outputId": "afbed38a-a94c-453d-89bf-635f7b353cad"
   },
   "execution_count": null,
   "outputs": [
    {
     "output_type": "execute_result",
     "data": {
      "text/plain": [
       "{'awayTeam': {'id': 558, 'name': 'RC Celta de Vigo'},\n",
       " 'group': 'Regular Season',\n",
       " 'homeTeam': {'id': 278, 'name': 'SD Eibar'},\n",
       " 'id': 308333,\n",
       " 'lastUpdated': '2020-09-13T18:11:24Z',\n",
       " 'matchday': 1,\n",
       " 'odds': {'msg': 'Activate Odds-Package in User-Panel to retrieve odds.'},\n",
       " 'referees': [{'id': 57921,\n",
       "   'name': 'Valentín Pizarro',\n",
       "   'nationality': 'Spain',\n",
       "   'role': 'REFEREE'},\n",
       "  {'id': 57901,\n",
       "   'name': 'José Garrido',\n",
       "   'nationality': 'Spain',\n",
       "   'role': 'REFEREE'},\n",
       "  {'id': 58174,\n",
       "   'name': 'Iván Masso Granado',\n",
       "   'nationality': 'Spain',\n",
       "   'role': 'REFEREE'},\n",
       "  {'id': 57021,\n",
       "   'name': 'Fernando Bueno Prieto',\n",
       "   'nationality': 'Spain',\n",
       "   'role': 'REFEREE'},\n",
       "  {'id': 32457,\n",
       "   'name': 'César Soto',\n",
       "   'nationality': 'Spain',\n",
       "   'role': 'REFEREE'}],\n",
       " 'score': {'duration': 'REGULAR',\n",
       "  'extraTime': {'awayTeam': None, 'homeTeam': None},\n",
       "  'fullTime': {'awayTeam': 0, 'homeTeam': 0},\n",
       "  'halfTime': {'awayTeam': 0, 'homeTeam': 0},\n",
       "  'penalties': {'awayTeam': None, 'homeTeam': None},\n",
       "  'winner': 'DRAW'},\n",
       " 'season': {'currentMatchday': 38,\n",
       "  'endDate': '2021-05-23',\n",
       "  'id': 635,\n",
       "  'startDate': '2020-09-12'},\n",
       " 'stage': 'REGULAR_SEASON',\n",
       " 'status': 'FINISHED',\n",
       " 'utcDate': '2020-09-12T14:00:00Z'}"
      ]
     },
     "metadata": {},
     "execution_count": 9
    }
   ]
  },
  {
   "cell_type": "code",
   "source": [
    "#Organitzem les dades\n",
    "\n",
    "from collections import defaultdict\n",
    "\n",
    "names = {}\n",
    "ids = []\n",
    "matches = defaultdict(int)\n",
    "goals = defaultdict(int)\n",
    "victories = defaultdict(int)\n",
    "\n",
    "\n",
    "for match in j['matches']:\n",
    "\n",
    "    for s, t in (('homeTeam', 'awayTeam'), ('awayTeam', 'homeTeam')):\n",
    "\n",
    "        id = match[s]['id']\n",
    "        name = match[s]['name']\n",
    "        \n",
    "        if not id in names:\n",
    "            ids.append(id)\n",
    "            names[id] = name\n",
    "\n",
    "        matches[id] += 1\n",
    "\n",
    "        full = match['score']['fullTime'][s]\n",
    "        idOther = match[t]['id']\n",
    "        fullOther = match['score']['fullTime'][t]\n",
    "\n",
    "        goals[(id, idOther)] += full\n",
    "\n",
    "        if full > fullOther:\n",
    "            victories[(id, idOther)] += 1"
   ],
   "metadata": {
    "id": "7qsdSDQBfC0h"
   },
   "execution_count": null,
   "outputs": []
  },
  {
   "cell_type": "code",
   "source": [
    "#Construïm la matriu d'iteració per a la lliga 2020-2021, així com el vector inicial\n",
    "\n",
    "N = len(ids)\n",
    "M_furbo = np.ones((N, N)) / 2\n",
    "\n",
    "for idxW, idW in enumerate(ids):\n",
    "    for idxL, idL in enumerate(ids):\n",
    "\n",
    "        #M_furbo[(idxW, idxL)] = goals[(idW, idL)] / matches[(idW)]\n",
    "        total = goals[(idW, idL)] + goals[(idL, idW)]\n",
    "        if total != 0:\n",
    "            M_furbo[(idxW, idxL)] = goals[(idW, idL)] / total\n",
    "\n",
    "V0_furbo = np.ones((N))"
   ],
   "metadata": {
    "id": "JVjXi8_1vI66"
   },
   "execution_count": null,
   "outputs": []
  },
  {
   "cell_type": "code",
   "source": [
    "#Fem el mètode de la potència\n",
    "conv, iter, vep, vap = potencia(M_furbo, V0_furbo, TOL, MAX_ITER, verbose=False)\n",
    "print(\"Hem convergit en\", iter, \"iteracions\" )\n",
    "print('\\nObtenim el vep:', vep, 'amb vap', vap)"
   ],
   "metadata": {
    "colab": {
     "base_uri": "https://localhost:8080/"
    },
    "id": "UBxKXPWp5v8-",
    "executionInfo": {
     "status": "ok",
     "timestamp": 1652113220317,
     "user_tz": -120,
     "elapsed": 11,
     "user": {
      "displayName": "Ferran Espuña",
      "userId": "05864415750500430917"
     }
    },
    "outputId": "67fdbac5-c3e4-4dd0-d96a-ec2e0cf090f3"
   },
   "execution_count": null,
   "outputs": [
    {
     "output_type": "stream",
     "name": "stdout",
     "text": [
      "10.0\n",
      "9.475863798594466\n",
      "9.413180965324548\n",
      "9.415726801729747\n",
      "9.416449198125854\n",
      "9.416377204494717\n",
      "9.41635832994124\n",
      "9.416360310600368\n",
      "9.416360877957665\n",
      "9.416360816055786\n",
      "9.416360797372473\n",
      "9.416360799432542\n",
      "9.416360800080119\n",
      "9.416360800009064\n",
      "Hem convergit en 13 iteracions\n",
      "\n",
      "Obtenim el vep: [+0.17185882 +0.23991995 +0.20324833 +0.22600595 +0.17673675 +0.17200071\n",
      " +0.19083027 +0.23333569 +0.15090547 +0.27663731 +0.24265118 +0.15993649\n",
      " +0.21951189 +0.20394756 +0.15727562 +0.32951095 +0.18505624 +0.33803030\n",
      " +0.28510631 +0.29671631] amb vap 9.416360800009064\n"
     ]
    }
   ]
  },
  {
   "cell_type": "code",
   "source": [
    "#Ara només cal ordenar els equips per aquesta puntuació:\n",
    "[(names[id], score) for score, id in sorted(zip(vep, ids), reverse=True)]"
   ],
   "metadata": {
    "colab": {
     "base_uri": "https://localhost:8080/"
    },
    "id": "r66PBSl09zcV",
    "executionInfo": {
     "status": "ok",
     "timestamp": 1652106416878,
     "user_tz": -120,
     "elapsed": 14,
     "user": {
      "displayName": "Ferran Espuña",
      "userId": "05864415750500430917"
     }
    },
    "outputId": "1a8b1cba-7f91-4a57-b8be-cbab7c804869"
   },
   "execution_count": null,
   "outputs": [
    {
     "output_type": "execute_result",
     "data": {
      "text/plain": [
       "[('Club Atlético de Madrid', 0.33803029884986596),\n",
       " ('Real Madrid CF', 0.329510954872187),\n",
       " ('FC Barcelona', 0.2967163144357901),\n",
       " ('Sevilla FC', 0.2851063125478861),\n",
       " ('Real Sociedad de Fútbol', 0.27663730544055176),\n",
       " ('Villarreal CF', 0.2426511839126834),\n",
       " ('RC Celta de Vigo', 0.23991994819571774),\n",
       " ('Real Betis Balompié', 0.2333356914160866),\n",
       " ('Athletic Club', 0.22600594699875745),\n",
       " ('Valencia CF', 0.21951189462406637),\n",
       " ('Levante UD', 0.20394756051597548),\n",
       " ('Granada CF', 0.20324832800884152),\n",
       " ('Deportivo Alavés', 0.19083027471469483),\n",
       " ('Elche CF', 0.18505624286078592),\n",
       " ('Cádiz CF', 0.176736747830894),\n",
       " ('CA Osasuna', 0.17200071124212),\n",
       " ('SD Eibar', 0.17185881736624647),\n",
       " ('SD Huesca', 0.1599364928114354),\n",
       " ('Getafe CF', 0.15727562226379543),\n",
       " ('Real Valladolid CF', 0.15090547155397233)]"
      ]
     },
     "metadata": {},
     "execution_count": 10
    }
   ]
  }
 ]
}
